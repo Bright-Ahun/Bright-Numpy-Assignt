{
 "cells": [
  {
   "cell_type": "markdown",
   "id": "d559520d",
   "metadata": {},
   "source": [
    "# Creating a vector of length 5 filled with random integers between 0 to 10"
   ]
  },
  {
   "cell_type": "code",
   "execution_count": 1,
   "id": "d00ad514",
   "metadata": {},
   "outputs": [],
   "source": [
    "import numpy as np"
   ]
  },
  {
   "cell_type": "code",
   "execution_count": 2,
   "id": "6357e480",
   "metadata": {},
   "outputs": [],
   "source": [
    "vector = np.random.randint(0,11, size=5)"
   ]
  },
  {
   "cell_type": "code",
   "execution_count": 3,
   "id": "e7208f13",
   "metadata": {},
   "outputs": [
    {
     "name": "stdout",
     "output_type": "stream",
     "text": [
      "[3 4 7 0 3]\n"
     ]
    }
   ],
   "source": [
    "print(vector)"
   ]
  },
  {
   "cell_type": "markdown",
   "id": "b392323a",
   "metadata": {},
   "source": [
    "# Creating a vector with values ranging from 15 to 55 and printing all values except the first and last."
   ]
  },
  {
   "cell_type": "code",
   "execution_count": 4,
   "id": "4f0d9d14",
   "metadata": {},
   "outputs": [],
   "source": [
    "vector = np.arange(15, 56)"
   ]
  },
  {
   "cell_type": "code",
   "execution_count": 5,
   "id": "40bc245a",
   "metadata": {},
   "outputs": [
    {
     "name": "stdout",
     "output_type": "stream",
     "text": [
      "[16 17 18 19 20 21 22 23 24 25 26 27 28 29 30 31 32 33 34 35 36 37 38 39\n",
      " 40 41 42 43 44 45 46 47 48 49 50 51 52 53 54]\n"
     ]
    }
   ],
   "source": [
    "print(vector[1:-1])"
   ]
  },
  {
   "cell_type": "markdown",
   "id": "f5242ecf",
   "metadata": {},
   "source": [
    "# creating a random array with 1000 elements and computing the average, variance, standard deviation of the array elements. "
   ]
  },
  {
   "cell_type": "code",
   "execution_count": 6,
   "id": "6b865404",
   "metadata": {},
   "outputs": [],
   "source": [
    "arr = np.random.rand(1000)"
   ]
  },
  {
   "cell_type": "code",
   "execution_count": 7,
   "id": "e27aed82",
   "metadata": {},
   "outputs": [],
   "source": [
    "avg = np.mean(arr)"
   ]
  },
  {
   "cell_type": "code",
   "execution_count": 8,
   "id": "842321b2",
   "metadata": {},
   "outputs": [],
   "source": [
    "variance = np.var(arr)"
   ]
  },
  {
   "cell_type": "code",
   "execution_count": 9,
   "id": "3c1d49e1",
   "metadata": {},
   "outputs": [],
   "source": [
    "std_dev = np.std(arr)"
   ]
  },
  {
   "cell_type": "code",
   "execution_count": 10,
   "id": "88537666",
   "metadata": {},
   "outputs": [
    {
     "name": "stdout",
     "output_type": "stream",
     "text": [
      "Average 0.4989161247626261\n",
      "Variance 0.08332279429167397\n",
      "Standard deviation 0.2886568798620154\n"
     ]
    }
   ],
   "source": [
    "print(\"Average\", avg)\n",
    "print(\"Variance\", variance)\n",
    "print(\"Standard deviation\", std_dev)"
   ]
  },
  {
   "cell_type": "markdown",
   "id": "6df0bb36",
   "metadata": {},
   "source": [
    "# program to calculate cumulative sum of the elements along a given axis, sum over rows for each of the 3 columns and sum over columns for each of the 2 rows of a given 3x3 array. "
   ]
  },
  {
   "cell_type": "code",
   "execution_count": 3,
   "id": "38f81b8b",
   "metadata": {},
   "outputs": [],
   "source": [
    "import numpy as np"
   ]
  },
  {
   "cell_type": "code",
   "execution_count": 4,
   "id": "a947963f",
   "metadata": {},
   "outputs": [],
   "source": [
    "arr = np.array([[1, 2, 3], [4, 5, 6], [7, 8, 9]])"
   ]
  },
  {
   "cell_type": "code",
   "execution_count": 5,
   "id": "7b185c16",
   "metadata": {},
   "outputs": [
    {
     "name": "stdout",
     "output_type": "stream",
     "text": [
      "Original array:\n",
      " [[1 2 3]\n",
      " [4 5 6]\n",
      " [7 8 9]]\n"
     ]
    }
   ],
   "source": [
    "print(\"Original array:\\n\", arr)"
   ]
  },
  {
   "cell_type": "code",
   "execution_count": 6,
   "id": "13c7cb5e",
   "metadata": {},
   "outputs": [],
   "source": [
    "cum_sum_axis0 = np.cumsum(arr, axis=0)"
   ]
  },
  {
   "cell_type": "code",
   "execution_count": 7,
   "id": "4b04cf06",
   "metadata": {},
   "outputs": [
    {
     "name": "stdout",
     "output_type": "stream",
     "text": [
      "\n",
      "cumulative sum along axis 0:\n",
      " [[ 1  2  3]\n",
      " [ 5  7  9]\n",
      " [12 15 18]]\n"
     ]
    }
   ],
   "source": [
    "print(\"\\ncumulative sum along axis 0:\\n\", cum_sum_axis0)"
   ]
  },
  {
   "cell_type": "code",
   "execution_count": 8,
   "id": "3c09f8a9",
   "metadata": {},
   "outputs": [],
   "source": [
    "cum_sum_axis1 = np.cumsum(arr, axis=1)"
   ]
  },
  {
   "cell_type": "code",
   "execution_count": 9,
   "id": "a3908671",
   "metadata": {},
   "outputs": [
    {
     "name": "stdout",
     "output_type": "stream",
     "text": [
      "\n",
      "Cumulative sum along axis 1:\n",
      " [[ 1  3  6]\n",
      " [ 4  9 15]\n",
      " [ 7 15 24]]\n"
     ]
    }
   ],
   "source": [
    "print(\"\\nCumulative sum along axis 1:\\n\",cum_sum_axis1)"
   ]
  },
  {
   "cell_type": "code",
   "execution_count": 10,
   "id": "f3bfc8a5",
   "metadata": {},
   "outputs": [
    {
     "name": "stdout",
     "output_type": "stream",
     "text": [
      "\n",
      "Sum over rows for each column:\n",
      " [12 15 18]\n"
     ]
    }
   ],
   "source": [
    "sum_rows_each_col = np.sum(arr, axis=0)\n",
    "print(\"\\nSum over rows for each column:\\n\", sum_rows_each_col)"
   ]
  },
  {
   "cell_type": "code",
   "execution_count": 11,
   "id": "7796383b",
   "metadata": {},
   "outputs": [
    {
     "name": "stdout",
     "output_type": "stream",
     "text": [
      "\n",
      "Sum over columns for each row:\n",
      " [ 6 15 24]\n"
     ]
    }
   ],
   "source": [
    "sum_cols_each_row = np.sum(arr, axis=1)\n",
    "print(\"\\nSum over columns for each row:\\n\", sum_cols_each_row)"
   ]
  },
  {
   "cell_type": "markdown",
   "id": "4fe975e8",
   "metadata": {},
   "source": [
    "# NumPy program to compute the multiplication of two given matrixes. \n",
    "\n",
    "Sample Matrix: \n",
    "\n",
    "[[1, 0], [0, 1]] \n",
    "\n",
    "[[1, 2], [3, 4]] "
   ]
  },
  {
   "cell_type": "code",
   "execution_count": 12,
   "id": "e1774109",
   "metadata": {},
   "outputs": [],
   "source": [
    "# Defining the matrices\n",
    "matrix1 = np.array([[1, 0], [0, 1]])\n",
    "matrix2 = np.array([[1, 2], [3, 4]])"
   ]
  },
  {
   "cell_type": "code",
   "execution_count": 13,
   "id": "c81da91e",
   "metadata": {},
   "outputs": [
    {
     "name": "stdout",
     "output_type": "stream",
     "text": [
      "The result of the multiplication is:\n",
      "[[1 2]\n",
      " [3 4]]\n"
     ]
    }
   ],
   "source": [
    "# Multipying the matrices using the dot() function\n",
    "result = np.dot(matrix1, matrix2)\n",
    "print(\"The result of the multiplication is:\")\n",
    "print(result)"
   ]
  },
  {
   "cell_type": "code",
   "execution_count": null,
   "id": "956a94e5",
   "metadata": {},
   "outputs": [],
   "source": []
  }
 ],
 "metadata": {
  "kernelspec": {
   "display_name": "Python 3 (ipykernel)",
   "language": "python",
   "name": "python3"
  },
  "language_info": {
   "codemirror_mode": {
    "name": "ipython",
    "version": 3
   },
   "file_extension": ".py",
   "mimetype": "text/x-python",
   "name": "python",
   "nbconvert_exporter": "python",
   "pygments_lexer": "ipython3",
   "version": "3.9.7"
  }
 },
 "nbformat": 4,
 "nbformat_minor": 5
}
